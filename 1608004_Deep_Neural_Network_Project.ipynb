{
  "nbformat": 4,
  "nbformat_minor": 0,
  "metadata": {
    "colab": {
      "name": "1608004_Deep Neural Network Project",
      "provenance": [],
      "collapsed_sections": [],
      "authorship_tag": "ABX9TyOSWDrkbpxeilkSY8TRMnJ/",
      "include_colab_link": true
    },
    "kernelspec": {
      "name": "python3",
      "display_name": "Python 3"
    },
    "language_info": {
      "name": "python"
    }
  },
  "cells": [
    {
      "cell_type": "markdown",
      "metadata": {
        "id": "view-in-github",
        "colab_type": "text"
      },
      "source": [
        "<a href=\"https://colab.research.google.com/github/SNEHA-17/ETE456_LabProjects/blob/main/1608004_Deep_Neural_Network_Project.ipynb\" target=\"_parent\"><img src=\"https://colab.research.google.com/assets/colab-badge.svg\" alt=\"Open In Colab\"/></a>"
      ]
    },
    {
      "cell_type": "markdown",
      "source": [
        "#**ETE456: Implementation of Deep Neural Network on a Real World Dataset**"
      ],
      "metadata": {
        "id": "xy1HwpI3b74o"
      }
    },
    {
      "cell_type": "markdown",
      "source": [
        "**Objectives:**\n",
        "\n",
        "\n",
        "\n",
        "1.   To pre-process the data before feeding into the ML models.\n",
        "2.   To apply various classification algorithms on the real world dataset.\n",
        "3.   To solve Classification problems using Deep Neural Network.\n",
        "4.   To develop DNN models using Tensorflow Framework. \n",
        "\n",
        "\n",
        "\n",
        "\n",
        "\n"
      ],
      "metadata": {
        "id": "k1Ujke2RMyln"
      }
    },
    {
      "cell_type": "markdown",
      "source": [
        "**Problem Statement:**\n",
        "Using Deep Neural Network classifying the given dataset and developing DNN models using Tensorflow Framework."
      ],
      "metadata": {
        "id": "Ik-tkTb7OJoT"
      }
    },
    {
      "cell_type": "code",
      "execution_count": null,
      "metadata": {
        "colab": {
          "base_uri": "https://localhost:8080/"
        },
        "id": "m-FBTtvJVdZy",
        "outputId": "ad97e909-9915-473f-fb94-c80abaddb80e"
      },
      "outputs": [
        {
          "output_type": "stream",
          "name": "stdout",
          "text": [
            "--2021-12-16 12:58:25--  https://www.dropbox.com/s/sglreynnyx40pb6/diabetes.csv?dl=0\n",
            "Resolving www.dropbox.com (www.dropbox.com)... 162.125.2.18, 2620:100:6022:18::a27d:4212\n",
            "Connecting to www.dropbox.com (www.dropbox.com)|162.125.2.18|:443... connected.\n",
            "HTTP request sent, awaiting response... 301 Moved Permanently\n",
            "Location: /s/raw/sglreynnyx40pb6/diabetes.csv [following]\n",
            "--2021-12-16 12:58:25--  https://www.dropbox.com/s/raw/sglreynnyx40pb6/diabetes.csv\n",
            "Reusing existing connection to www.dropbox.com:443.\n",
            "HTTP request sent, awaiting response... 302 Found\n",
            "Location: https://uc6ee35792558967a3ada3803424.dl.dropboxusercontent.com/cd/0/inline/Bb_ffPBYzuy_Q5-CUk5aIrKNgKdqFi9JT4-jl8DGjZcweOyCOe65CRw62EZL-PmrnKtVU91B_JayhlGEr5Ld5Pr6vptaIpj55loWAIH3bHBjgO0wS_vgAPzDr5mbC4jxTIov5wjWpR5u9ve_9Efj66nP/file# [following]\n",
            "--2021-12-16 12:58:25--  https://uc6ee35792558967a3ada3803424.dl.dropboxusercontent.com/cd/0/inline/Bb_ffPBYzuy_Q5-CUk5aIrKNgKdqFi9JT4-jl8DGjZcweOyCOe65CRw62EZL-PmrnKtVU91B_JayhlGEr5Ld5Pr6vptaIpj55loWAIH3bHBjgO0wS_vgAPzDr5mbC4jxTIov5wjWpR5u9ve_9Efj66nP/file\n",
            "Resolving uc6ee35792558967a3ada3803424.dl.dropboxusercontent.com (uc6ee35792558967a3ada3803424.dl.dropboxusercontent.com)... 162.125.2.15, 2620:100:6017:15::a27d:20f\n",
            "Connecting to uc6ee35792558967a3ada3803424.dl.dropboxusercontent.com (uc6ee35792558967a3ada3803424.dl.dropboxusercontent.com)|162.125.2.15|:443... connected.\n",
            "HTTP request sent, awaiting response... 200 OK\n",
            "Length: 23873 (23K) [text/plain]\n",
            "Saving to: ‘diabetes.csv’\n",
            "\n",
            "diabetes.csv        100%[===================>]  23.31K  --.-KB/s    in 0.02s   \n",
            "\n",
            "2021-12-16 12:58:25 (1.25 MB/s) - ‘diabetes.csv’ saved [23873/23873]\n",
            "\n"
          ]
        }
      ],
      "source": [
        "#Downloading the dataset\n",
        "!wget -O diabetes.csv  https://www.dropbox.com/s/sglreynnyx40pb6/diabetes.csv?dl=0"
      ]
    },
    {
      "cell_type": "code",
      "source": [
        "import warnings\n",
        "warnings.filterwarnings(\"ignore\")\n",
        "\n",
        "import numpy as np        \n",
        "import pandas as pd     \n",
        "import matplotlib.pyplot as plt       \n",
        "\n",
        "# Machine learning libraries\n",
        "from sklearn.model_selection import train_test_split\n",
        "from sklearn.preprocessing import StandardScaler"
      ],
      "metadata": {
        "id": "8ahYdS3pVrks"
      },
      "execution_count": null,
      "outputs": []
    },
    {
      "cell_type": "code",
      "source": [
        "\"\"\"importing the dataset \"\"\"\n",
        "\n",
        "d_set = pd.read_csv('diabetes.csv')\n",
        "d_set"
      ],
      "metadata": {
        "colab": {
          "base_uri": "https://localhost:8080/",
          "height": 424
        },
        "id": "lZCAJ9SsV4gx",
        "outputId": "964630dc-ac5b-439e-f43f-5d63fd3bb983"
      },
      "execution_count": null,
      "outputs": [
        {
          "output_type": "execute_result",
          "data": {
            "text/html": [
              "<div>\n",
              "<style scoped>\n",
              "    .dataframe tbody tr th:only-of-type {\n",
              "        vertical-align: middle;\n",
              "    }\n",
              "\n",
              "    .dataframe tbody tr th {\n",
              "        vertical-align: top;\n",
              "    }\n",
              "\n",
              "    .dataframe thead th {\n",
              "        text-align: right;\n",
              "    }\n",
              "</style>\n",
              "<table border=\"1\" class=\"dataframe\">\n",
              "  <thead>\n",
              "    <tr style=\"text-align: right;\">\n",
              "      <th></th>\n",
              "      <th>Pregnancies</th>\n",
              "      <th>Glucose</th>\n",
              "      <th>BloodPressure</th>\n",
              "      <th>SkinThickness</th>\n",
              "      <th>Insulin</th>\n",
              "      <th>BMI</th>\n",
              "      <th>DiabetesPedigreeFunction</th>\n",
              "      <th>Age</th>\n",
              "      <th>Outcome</th>\n",
              "    </tr>\n",
              "  </thead>\n",
              "  <tbody>\n",
              "    <tr>\n",
              "      <th>0</th>\n",
              "      <td>6</td>\n",
              "      <td>148</td>\n",
              "      <td>72</td>\n",
              "      <td>35</td>\n",
              "      <td>0</td>\n",
              "      <td>33.6</td>\n",
              "      <td>0.627</td>\n",
              "      <td>50</td>\n",
              "      <td>1</td>\n",
              "    </tr>\n",
              "    <tr>\n",
              "      <th>1</th>\n",
              "      <td>1</td>\n",
              "      <td>85</td>\n",
              "      <td>66</td>\n",
              "      <td>29</td>\n",
              "      <td>0</td>\n",
              "      <td>26.6</td>\n",
              "      <td>0.351</td>\n",
              "      <td>31</td>\n",
              "      <td>0</td>\n",
              "    </tr>\n",
              "    <tr>\n",
              "      <th>2</th>\n",
              "      <td>8</td>\n",
              "      <td>183</td>\n",
              "      <td>64</td>\n",
              "      <td>0</td>\n",
              "      <td>0</td>\n",
              "      <td>23.3</td>\n",
              "      <td>0.672</td>\n",
              "      <td>32</td>\n",
              "      <td>1</td>\n",
              "    </tr>\n",
              "    <tr>\n",
              "      <th>3</th>\n",
              "      <td>1</td>\n",
              "      <td>89</td>\n",
              "      <td>66</td>\n",
              "      <td>23</td>\n",
              "      <td>94</td>\n",
              "      <td>28.1</td>\n",
              "      <td>0.167</td>\n",
              "      <td>21</td>\n",
              "      <td>0</td>\n",
              "    </tr>\n",
              "    <tr>\n",
              "      <th>4</th>\n",
              "      <td>0</td>\n",
              "      <td>137</td>\n",
              "      <td>40</td>\n",
              "      <td>35</td>\n",
              "      <td>168</td>\n",
              "      <td>43.1</td>\n",
              "      <td>2.288</td>\n",
              "      <td>33</td>\n",
              "      <td>1</td>\n",
              "    </tr>\n",
              "    <tr>\n",
              "      <th>...</th>\n",
              "      <td>...</td>\n",
              "      <td>...</td>\n",
              "      <td>...</td>\n",
              "      <td>...</td>\n",
              "      <td>...</td>\n",
              "      <td>...</td>\n",
              "      <td>...</td>\n",
              "      <td>...</td>\n",
              "      <td>...</td>\n",
              "    </tr>\n",
              "    <tr>\n",
              "      <th>763</th>\n",
              "      <td>10</td>\n",
              "      <td>101</td>\n",
              "      <td>76</td>\n",
              "      <td>48</td>\n",
              "      <td>180</td>\n",
              "      <td>32.9</td>\n",
              "      <td>0.171</td>\n",
              "      <td>63</td>\n",
              "      <td>0</td>\n",
              "    </tr>\n",
              "    <tr>\n",
              "      <th>764</th>\n",
              "      <td>2</td>\n",
              "      <td>122</td>\n",
              "      <td>70</td>\n",
              "      <td>27</td>\n",
              "      <td>0</td>\n",
              "      <td>36.8</td>\n",
              "      <td>0.340</td>\n",
              "      <td>27</td>\n",
              "      <td>0</td>\n",
              "    </tr>\n",
              "    <tr>\n",
              "      <th>765</th>\n",
              "      <td>5</td>\n",
              "      <td>121</td>\n",
              "      <td>72</td>\n",
              "      <td>23</td>\n",
              "      <td>112</td>\n",
              "      <td>26.2</td>\n",
              "      <td>0.245</td>\n",
              "      <td>30</td>\n",
              "      <td>0</td>\n",
              "    </tr>\n",
              "    <tr>\n",
              "      <th>766</th>\n",
              "      <td>1</td>\n",
              "      <td>126</td>\n",
              "      <td>60</td>\n",
              "      <td>0</td>\n",
              "      <td>0</td>\n",
              "      <td>30.1</td>\n",
              "      <td>0.349</td>\n",
              "      <td>47</td>\n",
              "      <td>1</td>\n",
              "    </tr>\n",
              "    <tr>\n",
              "      <th>767</th>\n",
              "      <td>1</td>\n",
              "      <td>93</td>\n",
              "      <td>70</td>\n",
              "      <td>31</td>\n",
              "      <td>0</td>\n",
              "      <td>30.4</td>\n",
              "      <td>0.315</td>\n",
              "      <td>23</td>\n",
              "      <td>0</td>\n",
              "    </tr>\n",
              "  </tbody>\n",
              "</table>\n",
              "<p>768 rows × 9 columns</p>\n",
              "</div>"
            ],
            "text/plain": [
              "     Pregnancies  Glucose  ...  Age  Outcome\n",
              "0              6      148  ...   50        1\n",
              "1              1       85  ...   31        0\n",
              "2              8      183  ...   32        1\n",
              "3              1       89  ...   21        0\n",
              "4              0      137  ...   33        1\n",
              "..           ...      ...  ...  ...      ...\n",
              "763           10      101  ...   63        0\n",
              "764            2      122  ...   27        0\n",
              "765            5      121  ...   30        0\n",
              "766            1      126  ...   47        1\n",
              "767            1       93  ...   23        0\n",
              "\n",
              "[768 rows x 9 columns]"
            ]
          },
          "metadata": {},
          "execution_count": 7
        }
      ]
    },
    {
      "cell_type": "code",
      "source": [
        "d_set.columns"
      ],
      "metadata": {
        "colab": {
          "base_uri": "https://localhost:8080/"
        },
        "id": "yHN63y6dWCob",
        "outputId": "d027c92a-a8a3-4955-fe31-0554028afe7e"
      },
      "execution_count": null,
      "outputs": [
        {
          "output_type": "execute_result",
          "data": {
            "text/plain": [
              "Index(['Pregnancies', 'Glucose', 'BloodPressure', 'SkinThickness', 'Insulin',\n",
              "       'BMI', 'DiabetesPedigreeFunction', 'Age', 'Outcome'],\n",
              "      dtype='object')"
            ]
          },
          "metadata": {},
          "execution_count": 4
        }
      ]
    },
    {
      "cell_type": "code",
      "source": [
        "features = d_set[[ 'Pregnancies', 'Glucose', 'BloodPressure', 'SkinThickness', 'Insulin',\n",
        "       'BMI', 'DiabetesPedigreeFunction', 'Age']] \n",
        "target = d_set[['Outcome']]"
      ],
      "metadata": {
        "id": "MLzIoIfkWMUe"
      },
      "execution_count": null,
      "outputs": []
    },
    {
      "cell_type": "code",
      "source": [
        "from sklearn.impute import SimpleImputer\n",
        "\n",
        "imputer = SimpleImputer(missing_values=np.nan,strategy = \"mean\")  \n",
        "imputer = imputer.fit(features[['Pregnancies', 'Glucose', 'BloodPressure', 'SkinThickness', 'Insulin',\n",
        "       'BMI', 'DiabetesPedigreeFunction', 'Age']]) \n",
        "features[['Pregnancies', 'Glucose', 'BloodPressure', 'SkinThickness', 'Insulin',\n",
        "       'BMI', 'DiabetesPedigreeFunction', 'Age']]= imputer.transform(features[['Pregnancies', 'Glucose', 'BloodPressure', 'SkinThickness', 'Insulin',\n",
        "       'BMI', 'DiabetesPedigreeFunction', 'Age']])"
      ],
      "metadata": {
        "id": "CuLqX3cMZOIr"
      },
      "execution_count": null,
      "outputs": []
    },
    {
      "cell_type": "markdown",
      "source": [
        "**Spliting the Dataset into Training Set and Test Set:**"
      ],
      "metadata": {
        "id": "aiQrURmAO6xe"
      }
    },
    {
      "cell_type": "code",
      "source": [
        "X_train,X_test,y_train,y_test=train_test_split(features,target,test_size = 0.2,random_state = 0)"
      ],
      "metadata": {
        "colab": {
          "base_uri": "https://localhost:8080/"
        },
        "id": "G58nd8U0ZfPh",
        "outputId": "732ee7f4-01ba-4390-cd12-2e9d9f6d62bf"
      },
      "execution_count": null,
      "outputs": [
        {
          "output_type": "stream",
          "name": "stdout",
          "text": [
            "(614, 8)\n",
            "(154, 8)\n"
          ]
        }
      ]
    },
    {
      "cell_type": "markdown",
      "source": [
        "**Logistic Regression:**"
      ],
      "metadata": {
        "id": "Ayk3UmJcPE7U"
      }
    },
    {
      "cell_type": "code",
      "source": [
        "from sklearn.linear_model import LogisticRegression\n",
        "from sklearn.metrics import classification_report,confusion_matrix,accuracy_score,f1_score,precision_score,recall_score\n",
        "\n",
        "# Fitting Logistic Regression to the training dataset\n",
        "lr = LogisticRegression()\n",
        "\n",
        "lr.fit(X_train,y_train)"
      ],
      "metadata": {
        "colab": {
          "base_uri": "https://localhost:8080/"
        },
        "id": "-6izjuXJZprA",
        "outputId": "8431caee-f96b-476f-db32-3f1f364ccb0d"
      },
      "execution_count": null,
      "outputs": [
        {
          "output_type": "execute_result",
          "data": {
            "text/plain": [
              "LogisticRegression()"
            ]
          },
          "metadata": {},
          "execution_count": 11
        }
      ]
    },
    {
      "cell_type": "code",
      "source": [
        "# prediction\n",
        "y_pred = lr.predict(X_test)"
      ],
      "metadata": {
        "id": "or_163goZtDS"
      },
      "execution_count": null,
      "outputs": []
    },
    {
      "cell_type": "code",
      "source": [
        "# Making confusing matrix (actual,prediction)\n",
        "confusion_matrix(y_test,y_pred)"
      ],
      "metadata": {
        "colab": {
          "base_uri": "https://localhost:8080/"
        },
        "id": "zhV39G0IZy89",
        "outputId": "3f6ef282-8883-4397-cf4e-21bc894e67f7"
      },
      "execution_count": null,
      "outputs": [
        {
          "output_type": "execute_result",
          "data": {
            "text/plain": [
              "array([[98,  9],\n",
              "       [18, 29]])"
            ]
          },
          "metadata": {},
          "execution_count": 13
        }
      ]
    },
    {
      "cell_type": "code",
      "source": [
        "# Making confusing matrix\n",
        "print(classification_report(y_test,y_pred,target_names = ['No','Yes']))"
      ],
      "metadata": {
        "colab": {
          "base_uri": "https://localhost:8080/"
        },
        "id": "7kwIJVdlZz5O",
        "outputId": "2641ee1d-383f-4bfd-b5d8-06fdfe8a6bc9"
      },
      "execution_count": null,
      "outputs": [
        {
          "output_type": "stream",
          "name": "stdout",
          "text": [
            "              precision    recall  f1-score   support\n",
            "\n",
            "          No       0.84      0.92      0.88       107\n",
            "         Yes       0.76      0.62      0.68        47\n",
            "\n",
            "    accuracy                           0.82       154\n",
            "   macro avg       0.80      0.77      0.78       154\n",
            "weighted avg       0.82      0.82      0.82       154\n",
            "\n"
          ]
        }
      ]
    },
    {
      "cell_type": "markdown",
      "source": [
        "**K Nearest Neighbor:**"
      ],
      "metadata": {
        "id": "umw-gydoPMuh"
      }
    },
    {
      "cell_type": "code",
      "source": [
        "from sklearn.neighbors import KNeighborsClassifier\n",
        "\n",
        "# Classifier Model\n",
        "classifier = KNeighborsClassifier(n_neighbors=5, metric = 'minkowski', p=2)\n",
        "classifier.fit(X_train,y_train)\n",
        "# Prediction\n",
        "y_pred = classifier.predict(X_test)"
      ],
      "metadata": {
        "id": "BDhskMUeaCLo"
      },
      "execution_count": null,
      "outputs": []
    },
    {
      "cell_type": "code",
      "source": [
        "# Making confusing matrix\n",
        "print(confusion_matrix(y_test,y_pred))\n",
        "\n",
        "# Making confusing matrix\n",
        "print(classification_report(y_test,y_pred,target_names = ['No','Yes']))"
      ],
      "metadata": {
        "colab": {
          "base_uri": "https://localhost:8080/"
        },
        "id": "oNDdX-mmaK9x",
        "outputId": "3e456f47-6f61-4c80-ac28-7e5eeafba1ba"
      },
      "execution_count": null,
      "outputs": [
        {
          "output_type": "stream",
          "name": "stdout",
          "text": [
            "[[87 20]\n",
            " [18 29]]\n",
            "              precision    recall  f1-score   support\n",
            "\n",
            "          No       0.83      0.81      0.82       107\n",
            "         Yes       0.59      0.62      0.60        47\n",
            "\n",
            "    accuracy                           0.75       154\n",
            "   macro avg       0.71      0.72      0.71       154\n",
            "weighted avg       0.76      0.75      0.75       154\n",
            "\n"
          ]
        }
      ]
    },
    {
      "cell_type": "markdown",
      "source": [
        "**Support Vector Machine:**"
      ],
      "metadata": {
        "id": "dMfP8rLCPS1Z"
      }
    },
    {
      "cell_type": "code",
      "source": [
        "from sklearn.svm import SVC\n",
        "\n",
        "# Classifier Model\n",
        "classifier = SVC(kernel = 'linear', random_state = 0)\n",
        "classifier.fit(X_train,y_train)\n",
        "# Prediction\n",
        "y_pred = classifier.predict(X_test)"
      ],
      "metadata": {
        "id": "lSfGgJYpaRR7"
      },
      "execution_count": null,
      "outputs": []
    },
    {
      "cell_type": "code",
      "source": [
        "# Making confusing matrix\n",
        "print(confusion_matrix(y_test,y_pred))\n",
        "\n",
        "# Making confusing matrix\n",
        "print(classification_report(y_test,y_pred,target_names = ['No','Yes']))"
      ],
      "metadata": {
        "colab": {
          "base_uri": "https://localhost:8080/"
        },
        "id": "_mQXIeO5aVT2",
        "outputId": "c815ad15-93dd-40c5-ca0e-d5de0b5ff420"
      },
      "execution_count": null,
      "outputs": [
        {
          "output_type": "stream",
          "name": "stdout",
          "text": [
            "[[97 10]\n",
            " [18 29]]\n",
            "              precision    recall  f1-score   support\n",
            "\n",
            "          No       0.84      0.91      0.87       107\n",
            "         Yes       0.74      0.62      0.67        47\n",
            "\n",
            "    accuracy                           0.82       154\n",
            "   macro avg       0.79      0.76      0.77       154\n",
            "weighted avg       0.81      0.82      0.81       154\n",
            "\n"
          ]
        }
      ]
    },
    {
      "cell_type": "markdown",
      "source": [
        "**Decision Tree Classifier:**"
      ],
      "metadata": {
        "id": "GlWL6_7ePYOX"
      }
    },
    {
      "cell_type": "code",
      "source": [
        "from sklearn.tree import DecisionTreeClassifier\n",
        "# Classifier Model\n",
        "classifier = DecisionTreeClassifier(criterion = 'entropy', random_state = 0)\n",
        "classifier.fit(X_train,y_train)\n",
        "# Prediction\n",
        "y_pred = classifier.predict(X_test)"
      ],
      "metadata": {
        "id": "g7SaDw0-aYvR"
      },
      "execution_count": null,
      "outputs": []
    },
    {
      "cell_type": "code",
      "source": [
        "# Making confusing matrix\n",
        "print(confusion_matrix(y_test,y_pred))\n",
        "\n",
        "# Making confusing matrix\n",
        "print(classification_report(y_test,y_pred,target_names = ['No','Yes']))"
      ],
      "metadata": {
        "colab": {
          "base_uri": "https://localhost:8080/"
        },
        "id": "u7kD5ASAaZos",
        "outputId": "759a1749-a342-451e-acef-70574c25a9fe"
      },
      "execution_count": null,
      "outputs": [
        {
          "output_type": "stream",
          "name": "stdout",
          "text": [
            "[[79 28]\n",
            " [17 30]]\n",
            "              precision    recall  f1-score   support\n",
            "\n",
            "          No       0.82      0.74      0.78       107\n",
            "         Yes       0.52      0.64      0.57        47\n",
            "\n",
            "    accuracy                           0.71       154\n",
            "   macro avg       0.67      0.69      0.67       154\n",
            "weighted avg       0.73      0.71      0.72       154\n",
            "\n"
          ]
        }
      ]
    },
    {
      "cell_type": "markdown",
      "source": [
        "**Random Forest Classiifier:**"
      ],
      "metadata": {
        "id": "zz46JPSuPdVO"
      }
    },
    {
      "cell_type": "code",
      "source": [
        "from sklearn.ensemble import RandomForestClassifier\n",
        "# Classifier Model\n",
        "classifier = RandomForestClassifier(n_estimators=10, criterion ='entropy', random_state = 0)\n",
        "classifier.fit(X_train,y_train)\n",
        "# Prediction\n",
        "y_pred = classifier.predict(X_test)"
      ],
      "metadata": {
        "id": "xb2R7faUaeM4"
      },
      "execution_count": null,
      "outputs": []
    },
    {
      "cell_type": "code",
      "source": [
        "# Making confusing matrix\n",
        "print(confusion_matrix(y_test,y_pred))\n",
        "\n",
        "# Making confusing matrix\n",
        "print(classification_report(y_test,y_pred,target_names = ['No','Yes']))"
      ],
      "metadata": {
        "colab": {
          "base_uri": "https://localhost:8080/"
        },
        "id": "8wUPATdIame7",
        "outputId": "c964e74b-a25f-4c72-ad28-e9336d488b3a"
      },
      "execution_count": null,
      "outputs": [
        {
          "output_type": "stream",
          "name": "stdout",
          "text": [
            "[[94 13]\n",
            " [20 27]]\n",
            "              precision    recall  f1-score   support\n",
            "\n",
            "          No       0.82      0.88      0.85       107\n",
            "         Yes       0.68      0.57      0.62        47\n",
            "\n",
            "    accuracy                           0.79       154\n",
            "   macro avg       0.75      0.73      0.74       154\n",
            "weighted avg       0.78      0.79      0.78       154\n",
            "\n"
          ]
        }
      ]
    },
    {
      "cell_type": "markdown",
      "source": [
        "**Naive Bayes:**"
      ],
      "metadata": {
        "id": "eChXSm6jPiau"
      }
    },
    {
      "cell_type": "code",
      "source": [
        "from sklearn.naive_bayes import GaussianNB\n",
        "\n",
        "# Classifier Model\n",
        "classifier = GaussianNB()\n",
        "classifier.fit(X_train,y_train)\n",
        "# Prediction\n",
        "y_pred = classifier.predict(X_test)"
      ],
      "metadata": {
        "id": "khvvo2DFa0Q1"
      },
      "execution_count": null,
      "outputs": []
    },
    {
      "cell_type": "code",
      "source": [
        "# Making confusing matrix\n",
        "print(confusion_matrix(y_test,y_pred))\n",
        "\n",
        "# Making confusing matrix\n",
        "print(classification_report(y_test,y_pred,target_names = ['No','Yes']))"
      ],
      "metadata": {
        "colab": {
          "base_uri": "https://localhost:8080/"
        },
        "id": "3fXosm17a1KA",
        "outputId": "a0245085-0d56-4d98-db4f-1e624867ec10"
      },
      "execution_count": null,
      "outputs": [
        {
          "output_type": "stream",
          "name": "stdout",
          "text": [
            "[[93 14]\n",
            " [18 29]]\n",
            "              precision    recall  f1-score   support\n",
            "\n",
            "          No       0.84      0.87      0.85       107\n",
            "         Yes       0.67      0.62      0.64        47\n",
            "\n",
            "    accuracy                           0.79       154\n",
            "   macro avg       0.76      0.74      0.75       154\n",
            "weighted avg       0.79      0.79      0.79       154\n",
            "\n"
          ]
        }
      ]
    },
    {
      "cell_type": "markdown",
      "source": [
        "**Building a Multilayer Neural Network with Tensorflow Keras:**"
      ],
      "metadata": {
        "id": "-fAAW9KDPq7u"
      }
    },
    {
      "cell_type": "code",
      "source": [
        "import tensorflow as tf\n",
        "from tensorflow.keras import Sequential\n",
        "from tensorflow.keras.layers import Dense"
      ],
      "metadata": {
        "id": "lJrud8CpipRv"
      },
      "execution_count": null,
      "outputs": []
    },
    {
      "cell_type": "code",
      "source": [
        "#the neural network architecture\n",
        "model = Sequential()\n",
        "model.add(Dense(20, input_dim=8, activation='relu'))\n",
        "model.add(Dense(10, activation='relu'))\n",
        "model.add(Dense(1, activation='sigmoid'))"
      ],
      "metadata": {
        "id": "wZE2tq7Xi140"
      },
      "execution_count": null,
      "outputs": []
    },
    {
      "cell_type": "code",
      "source": [
        "model.summary()"
      ],
      "metadata": {
        "colab": {
          "base_uri": "https://localhost:8080/"
        },
        "id": "BHauGoQCi5w2",
        "outputId": "7c749662-2adb-4d74-b0c8-0483c7307d79"
      },
      "execution_count": null,
      "outputs": [
        {
          "output_type": "stream",
          "name": "stdout",
          "text": [
            "Model: \"sequential_1\"\n",
            "_________________________________________________________________\n",
            " Layer (type)                Output Shape              Param #   \n",
            "=================================================================\n",
            " dense_3 (Dense)             (None, 20)                180       \n",
            "                                                                 \n",
            " dense_4 (Dense)             (None, 10)                210       \n",
            "                                                                 \n",
            " dense_5 (Dense)             (None, 1)                 11        \n",
            "                                                                 \n",
            "=================================================================\n",
            "Total params: 401\n",
            "Trainable params: 401\n",
            "Non-trainable params: 0\n",
            "_________________________________________________________________\n"
          ]
        }
      ]
    },
    {
      "cell_type": "code",
      "source": [
        "model.compile(loss='binary_crossentropy', optimizer='adam', metrics=['accuracy'])"
      ],
      "metadata": {
        "id": "lrXMncp9i8s-"
      },
      "execution_count": null,
      "outputs": []
    },
    {
      "cell_type": "markdown",
      "source": [
        "**Training the Model:**"
      ],
      "metadata": {
        "id": "bBdpGpB7P6eZ"
      }
    },
    {
      "cell_type": "code",
      "source": [
        "#trainng the neural network on the train dataset\n",
        "history = model.fit(X_train, y_train, epochs=100, validation_split=0.1)"
      ],
      "metadata": {
        "colab": {
          "base_uri": "https://localhost:8080/"
        },
        "id": "wpBE5PsSjAMt",
        "outputId": "3f5c767f-762e-4922-99f8-948a82abe17c"
      },
      "execution_count": null,
      "outputs": [
        {
          "output_type": "stream",
          "name": "stdout",
          "text": [
            "Epoch 1/100\n",
            "18/18 [==============================] - 1s 14ms/step - loss: 7.8153 - accuracy: 0.5236 - val_loss: 4.8470 - val_accuracy: 0.5323\n",
            "Epoch 2/100\n",
            "18/18 [==============================] - 0s 4ms/step - loss: 3.1902 - accuracy: 0.4547 - val_loss: 1.5627 - val_accuracy: 0.4032\n",
            "Epoch 3/100\n",
            "18/18 [==============================] - 0s 3ms/step - loss: 1.1966 - accuracy: 0.6214 - val_loss: 1.3879 - val_accuracy: 0.6290\n",
            "Epoch 4/100\n",
            "18/18 [==============================] - 0s 3ms/step - loss: 0.8612 - accuracy: 0.6286 - val_loss: 1.1261 - val_accuracy: 0.5484\n",
            "Epoch 5/100\n",
            "18/18 [==============================] - 0s 3ms/step - loss: 0.7845 - accuracy: 0.6395 - val_loss: 1.1337 - val_accuracy: 0.5806\n",
            "Epoch 6/100\n",
            "18/18 [==============================] - 0s 3ms/step - loss: 0.7554 - accuracy: 0.6685 - val_loss: 1.0907 - val_accuracy: 0.5323\n",
            "Epoch 7/100\n",
            "18/18 [==============================] - 0s 3ms/step - loss: 0.7619 - accuracy: 0.6413 - val_loss: 1.0813 - val_accuracy: 0.5806\n",
            "Epoch 8/100\n",
            "18/18 [==============================] - 0s 3ms/step - loss: 0.7301 - accuracy: 0.6703 - val_loss: 1.0889 - val_accuracy: 0.4677\n",
            "Epoch 9/100\n",
            "18/18 [==============================] - 0s 3ms/step - loss: 0.7423 - accuracy: 0.6377 - val_loss: 1.1028 - val_accuracy: 0.6129\n",
            "Epoch 10/100\n",
            "18/18 [==============================] - 0s 3ms/step - loss: 0.6910 - accuracy: 0.6757 - val_loss: 1.0356 - val_accuracy: 0.5323\n",
            "Epoch 11/100\n",
            "18/18 [==============================] - 0s 3ms/step - loss: 0.6787 - accuracy: 0.6467 - val_loss: 1.0476 - val_accuracy: 0.5323\n",
            "Epoch 12/100\n",
            "18/18 [==============================] - 0s 3ms/step - loss: 0.6822 - accuracy: 0.6594 - val_loss: 1.1296 - val_accuracy: 0.5323\n",
            "Epoch 13/100\n",
            "18/18 [==============================] - 0s 3ms/step - loss: 0.6838 - accuracy: 0.6667 - val_loss: 1.0636 - val_accuracy: 0.5323\n",
            "Epoch 14/100\n",
            "18/18 [==============================] - 0s 3ms/step - loss: 0.6958 - accuracy: 0.6685 - val_loss: 1.1352 - val_accuracy: 0.5806\n",
            "Epoch 15/100\n",
            "18/18 [==============================] - 0s 3ms/step - loss: 0.6643 - accuracy: 0.6793 - val_loss: 1.0011 - val_accuracy: 0.4839\n",
            "Epoch 16/100\n",
            "18/18 [==============================] - 0s 3ms/step - loss: 0.6558 - accuracy: 0.6830 - val_loss: 0.9976 - val_accuracy: 0.6290\n",
            "Epoch 17/100\n",
            "18/18 [==============================] - 0s 4ms/step - loss: 0.6346 - accuracy: 0.6739 - val_loss: 0.9828 - val_accuracy: 0.5968\n",
            "Epoch 18/100\n",
            "18/18 [==============================] - 0s 3ms/step - loss: 0.6302 - accuracy: 0.6812 - val_loss: 0.9708 - val_accuracy: 0.4839\n",
            "Epoch 19/100\n",
            "18/18 [==============================] - 0s 5ms/step - loss: 0.6272 - accuracy: 0.6793 - val_loss: 0.9571 - val_accuracy: 0.5645\n",
            "Epoch 20/100\n",
            "18/18 [==============================] - 0s 3ms/step - loss: 0.6165 - accuracy: 0.6757 - val_loss: 0.9543 - val_accuracy: 0.5484\n",
            "Epoch 21/100\n",
            "18/18 [==============================] - 0s 3ms/step - loss: 0.6198 - accuracy: 0.6902 - val_loss: 0.9452 - val_accuracy: 0.6290\n",
            "Epoch 22/100\n",
            "18/18 [==============================] - 0s 3ms/step - loss: 0.6161 - accuracy: 0.6812 - val_loss: 0.9568 - val_accuracy: 0.5161\n",
            "Epoch 23/100\n",
            "18/18 [==============================] - 0s 3ms/step - loss: 0.6051 - accuracy: 0.6866 - val_loss: 0.9257 - val_accuracy: 0.6290\n",
            "Epoch 24/100\n",
            "18/18 [==============================] - 0s 3ms/step - loss: 0.6015 - accuracy: 0.6775 - val_loss: 0.9754 - val_accuracy: 0.6290\n",
            "Epoch 25/100\n",
            "18/18 [==============================] - 0s 3ms/step - loss: 0.5908 - accuracy: 0.6938 - val_loss: 0.9347 - val_accuracy: 0.5484\n",
            "Epoch 26/100\n",
            "18/18 [==============================] - 0s 3ms/step - loss: 0.6198 - accuracy: 0.6721 - val_loss: 0.9311 - val_accuracy: 0.6129\n",
            "Epoch 27/100\n",
            "18/18 [==============================] - 0s 3ms/step - loss: 0.6057 - accuracy: 0.6957 - val_loss: 0.9238 - val_accuracy: 0.5323\n",
            "Epoch 28/100\n",
            "18/18 [==============================] - 0s 3ms/step - loss: 0.6039 - accuracy: 0.6920 - val_loss: 0.9777 - val_accuracy: 0.5645\n",
            "Epoch 29/100\n",
            "18/18 [==============================] - 0s 3ms/step - loss: 0.6178 - accuracy: 0.6866 - val_loss: 0.9129 - val_accuracy: 0.5968\n",
            "Epoch 30/100\n",
            "18/18 [==============================] - 0s 3ms/step - loss: 0.6186 - accuracy: 0.6866 - val_loss: 0.9569 - val_accuracy: 0.5806\n",
            "Epoch 31/100\n",
            "18/18 [==============================] - 0s 3ms/step - loss: 0.6587 - accuracy: 0.6685 - val_loss: 0.8898 - val_accuracy: 0.6129\n",
            "Epoch 32/100\n",
            "18/18 [==============================] - 0s 3ms/step - loss: 0.7616 - accuracy: 0.6522 - val_loss: 1.0402 - val_accuracy: 0.5000\n",
            "Epoch 33/100\n",
            "18/18 [==============================] - 0s 3ms/step - loss: 0.6247 - accuracy: 0.6884 - val_loss: 0.9367 - val_accuracy: 0.5806\n",
            "Epoch 34/100\n",
            "18/18 [==============================] - 0s 3ms/step - loss: 0.6060 - accuracy: 0.6993 - val_loss: 0.9148 - val_accuracy: 0.6452\n",
            "Epoch 35/100\n",
            "18/18 [==============================] - 0s 4ms/step - loss: 0.5958 - accuracy: 0.6975 - val_loss: 0.8701 - val_accuracy: 0.6129\n",
            "Epoch 36/100\n",
            "18/18 [==============================] - 0s 3ms/step - loss: 0.5707 - accuracy: 0.7120 - val_loss: 0.8786 - val_accuracy: 0.5645\n",
            "Epoch 37/100\n",
            "18/18 [==============================] - 0s 3ms/step - loss: 0.5760 - accuracy: 0.7047 - val_loss: 0.8630 - val_accuracy: 0.6290\n",
            "Epoch 38/100\n",
            "18/18 [==============================] - 0s 3ms/step - loss: 0.5676 - accuracy: 0.7047 - val_loss: 0.8946 - val_accuracy: 0.5484\n",
            "Epoch 39/100\n",
            "18/18 [==============================] - 0s 3ms/step - loss: 0.5826 - accuracy: 0.7120 - val_loss: 0.8518 - val_accuracy: 0.5645\n",
            "Epoch 40/100\n",
            "18/18 [==============================] - 0s 3ms/step - loss: 0.5724 - accuracy: 0.6902 - val_loss: 0.8626 - val_accuracy: 0.6613\n",
            "Epoch 41/100\n",
            "18/18 [==============================] - 0s 3ms/step - loss: 0.5797 - accuracy: 0.6975 - val_loss: 0.8739 - val_accuracy: 0.5161\n",
            "Epoch 42/100\n",
            "18/18 [==============================] - 0s 3ms/step - loss: 0.5624 - accuracy: 0.7011 - val_loss: 0.8665 - val_accuracy: 0.6290\n",
            "Epoch 43/100\n",
            "18/18 [==============================] - 0s 3ms/step - loss: 0.5758 - accuracy: 0.6902 - val_loss: 0.8517 - val_accuracy: 0.6452\n",
            "Epoch 44/100\n",
            "18/18 [==============================] - 0s 3ms/step - loss: 0.5816 - accuracy: 0.7228 - val_loss: 0.8343 - val_accuracy: 0.6613\n",
            "Epoch 45/100\n",
            "18/18 [==============================] - 0s 3ms/step - loss: 0.5890 - accuracy: 0.6993 - val_loss: 0.8471 - val_accuracy: 0.5806\n",
            "Epoch 46/100\n",
            "18/18 [==============================] - 0s 3ms/step - loss: 0.5635 - accuracy: 0.7083 - val_loss: 0.8336 - val_accuracy: 0.6129\n",
            "Epoch 47/100\n",
            "18/18 [==============================] - 0s 3ms/step - loss: 0.5711 - accuracy: 0.6975 - val_loss: 0.8188 - val_accuracy: 0.6452\n",
            "Epoch 48/100\n",
            "18/18 [==============================] - 0s 3ms/step - loss: 0.5624 - accuracy: 0.7047 - val_loss: 0.8578 - val_accuracy: 0.6774\n",
            "Epoch 49/100\n",
            "18/18 [==============================] - 0s 3ms/step - loss: 0.5779 - accuracy: 0.7210 - val_loss: 0.8603 - val_accuracy: 0.6774\n",
            "Epoch 50/100\n",
            "18/18 [==============================] - 0s 3ms/step - loss: 0.5732 - accuracy: 0.6975 - val_loss: 0.8350 - val_accuracy: 0.5806\n",
            "Epoch 51/100\n",
            "18/18 [==============================] - 0s 3ms/step - loss: 0.5769 - accuracy: 0.7047 - val_loss: 0.8431 - val_accuracy: 0.5806\n",
            "Epoch 52/100\n",
            "18/18 [==============================] - 0s 3ms/step - loss: 0.5697 - accuracy: 0.6957 - val_loss: 0.8051 - val_accuracy: 0.5645\n",
            "Epoch 53/100\n",
            "18/18 [==============================] - 0s 3ms/step - loss: 0.5617 - accuracy: 0.6920 - val_loss: 0.8097 - val_accuracy: 0.5484\n",
            "Epoch 54/100\n",
            "18/18 [==============================] - 0s 3ms/step - loss: 0.5836 - accuracy: 0.7083 - val_loss: 0.8383 - val_accuracy: 0.6613\n",
            "Epoch 55/100\n",
            "18/18 [==============================] - 0s 3ms/step - loss: 0.5469 - accuracy: 0.7391 - val_loss: 0.8527 - val_accuracy: 0.5806\n",
            "Epoch 56/100\n",
            "18/18 [==============================] - 0s 3ms/step - loss: 0.5663 - accuracy: 0.6975 - val_loss: 0.8226 - val_accuracy: 0.5323\n",
            "Epoch 57/100\n",
            "18/18 [==============================] - 0s 3ms/step - loss: 0.5734 - accuracy: 0.7174 - val_loss: 0.8430 - val_accuracy: 0.6613\n",
            "Epoch 58/100\n",
            "18/18 [==============================] - 0s 3ms/step - loss: 0.5601 - accuracy: 0.7192 - val_loss: 0.8221 - val_accuracy: 0.7097\n",
            "Epoch 59/100\n",
            "18/18 [==============================] - 0s 3ms/step - loss: 0.5543 - accuracy: 0.7138 - val_loss: 0.8049 - val_accuracy: 0.6452\n",
            "Epoch 60/100\n",
            "18/18 [==============================] - 0s 3ms/step - loss: 0.5534 - accuracy: 0.7065 - val_loss: 0.8191 - val_accuracy: 0.6613\n",
            "Epoch 61/100\n",
            "18/18 [==============================] - 0s 3ms/step - loss: 0.5623 - accuracy: 0.7264 - val_loss: 0.8159 - val_accuracy: 0.6129\n",
            "Epoch 62/100\n",
            "18/18 [==============================] - 0s 3ms/step - loss: 0.5818 - accuracy: 0.7065 - val_loss: 0.8145 - val_accuracy: 0.5645\n",
            "Epoch 63/100\n",
            "18/18 [==============================] - 0s 3ms/step - loss: 0.6064 - accuracy: 0.7029 - val_loss: 0.9600 - val_accuracy: 0.6935\n",
            "Epoch 64/100\n",
            "18/18 [==============================] - 0s 3ms/step - loss: 0.5932 - accuracy: 0.6866 - val_loss: 0.9805 - val_accuracy: 0.6613\n",
            "Epoch 65/100\n",
            "18/18 [==============================] - 0s 3ms/step - loss: 0.5728 - accuracy: 0.7156 - val_loss: 0.8663 - val_accuracy: 0.7097\n",
            "Epoch 66/100\n",
            "18/18 [==============================] - 0s 3ms/step - loss: 0.5444 - accuracy: 0.7319 - val_loss: 0.9039 - val_accuracy: 0.6129\n",
            "Epoch 67/100\n",
            "18/18 [==============================] - 0s 3ms/step - loss: 0.5714 - accuracy: 0.7264 - val_loss: 0.8536 - val_accuracy: 0.5484\n",
            "Epoch 68/100\n",
            "18/18 [==============================] - 0s 3ms/step - loss: 0.5546 - accuracy: 0.7192 - val_loss: 0.8828 - val_accuracy: 0.6452\n",
            "Epoch 69/100\n",
            "18/18 [==============================] - 0s 3ms/step - loss: 0.5384 - accuracy: 0.7319 - val_loss: 0.8001 - val_accuracy: 0.6935\n",
            "Epoch 70/100\n",
            "18/18 [==============================] - 0s 3ms/step - loss: 0.5490 - accuracy: 0.7228 - val_loss: 0.8245 - val_accuracy: 0.5645\n",
            "Epoch 71/100\n",
            "18/18 [==============================] - 0s 3ms/step - loss: 0.5463 - accuracy: 0.7174 - val_loss: 0.7649 - val_accuracy: 0.6613\n",
            "Epoch 72/100\n",
            "18/18 [==============================] - 0s 3ms/step - loss: 0.5526 - accuracy: 0.7428 - val_loss: 0.8338 - val_accuracy: 0.5968\n",
            "Epoch 73/100\n",
            "18/18 [==============================] - 0s 3ms/step - loss: 0.5468 - accuracy: 0.7246 - val_loss: 0.9122 - val_accuracy: 0.6129\n",
            "Epoch 74/100\n",
            "18/18 [==============================] - 0s 3ms/step - loss: 0.5754 - accuracy: 0.7156 - val_loss: 0.8003 - val_accuracy: 0.5968\n",
            "Epoch 75/100\n",
            "18/18 [==============================] - 0s 3ms/step - loss: 0.5392 - accuracy: 0.7409 - val_loss: 0.7717 - val_accuracy: 0.6935\n",
            "Epoch 76/100\n",
            "18/18 [==============================] - 0s 3ms/step - loss: 0.5383 - accuracy: 0.7283 - val_loss: 0.8401 - val_accuracy: 0.5645\n",
            "Epoch 77/100\n",
            "18/18 [==============================] - 0s 3ms/step - loss: 0.5642 - accuracy: 0.7047 - val_loss: 0.8577 - val_accuracy: 0.6935\n",
            "Epoch 78/100\n",
            "18/18 [==============================] - 0s 3ms/step - loss: 0.5457 - accuracy: 0.7482 - val_loss: 0.8007 - val_accuracy: 0.6613\n",
            "Epoch 79/100\n",
            "18/18 [==============================] - 0s 3ms/step - loss: 0.5692 - accuracy: 0.6957 - val_loss: 0.8623 - val_accuracy: 0.7258\n",
            "Epoch 80/100\n",
            "18/18 [==============================] - 0s 3ms/step - loss: 0.5756 - accuracy: 0.6920 - val_loss: 1.0098 - val_accuracy: 0.5806\n",
            "Epoch 81/100\n",
            "18/18 [==============================] - 0s 3ms/step - loss: 0.6388 - accuracy: 0.7047 - val_loss: 1.0018 - val_accuracy: 0.5645\n",
            "Epoch 82/100\n",
            "18/18 [==============================] - 0s 3ms/step - loss: 0.6201 - accuracy: 0.6793 - val_loss: 0.9068 - val_accuracy: 0.5806\n",
            "Epoch 83/100\n",
            "18/18 [==============================] - 0s 3ms/step - loss: 0.5452 - accuracy: 0.7482 - val_loss: 0.8468 - val_accuracy: 0.6452\n",
            "Epoch 84/100\n",
            "18/18 [==============================] - 0s 3ms/step - loss: 0.5279 - accuracy: 0.7409 - val_loss: 0.8600 - val_accuracy: 0.5968\n",
            "Epoch 85/100\n",
            "18/18 [==============================] - 0s 3ms/step - loss: 0.5532 - accuracy: 0.7373 - val_loss: 0.8020 - val_accuracy: 0.6774\n",
            "Epoch 86/100\n",
            "18/18 [==============================] - 0s 3ms/step - loss: 0.5427 - accuracy: 0.7337 - val_loss: 0.7867 - val_accuracy: 0.6935\n",
            "Epoch 87/100\n",
            "18/18 [==============================] - 0s 3ms/step - loss: 0.5439 - accuracy: 0.7138 - val_loss: 0.8678 - val_accuracy: 0.5968\n",
            "Epoch 88/100\n",
            "18/18 [==============================] - 0s 3ms/step - loss: 0.5387 - accuracy: 0.7409 - val_loss: 0.7735 - val_accuracy: 0.6290\n",
            "Epoch 89/100\n",
            "18/18 [==============================] - 0s 4ms/step - loss: 0.5470 - accuracy: 0.7337 - val_loss: 0.8096 - val_accuracy: 0.6774\n",
            "Epoch 90/100\n",
            "18/18 [==============================] - 0s 3ms/step - loss: 0.5337 - accuracy: 0.7283 - val_loss: 0.9069 - val_accuracy: 0.7097\n",
            "Epoch 91/100\n",
            "18/18 [==============================] - 0s 3ms/step - loss: 0.5874 - accuracy: 0.7029 - val_loss: 0.8313 - val_accuracy: 0.7097\n",
            "Epoch 92/100\n",
            "18/18 [==============================] - 0s 3ms/step - loss: 0.5390 - accuracy: 0.7482 - val_loss: 0.8193 - val_accuracy: 0.7097\n",
            "Epoch 93/100\n",
            "18/18 [==============================] - 0s 3ms/step - loss: 0.5341 - accuracy: 0.7446 - val_loss: 0.8383 - val_accuracy: 0.6935\n",
            "Epoch 94/100\n",
            "18/18 [==============================] - 0s 3ms/step - loss: 0.5698 - accuracy: 0.7192 - val_loss: 0.8202 - val_accuracy: 0.6129\n",
            "Epoch 95/100\n",
            "18/18 [==============================] - 0s 3ms/step - loss: 0.5335 - accuracy: 0.7446 - val_loss: 0.8010 - val_accuracy: 0.5968\n",
            "Epoch 96/100\n",
            "18/18 [==============================] - 0s 3ms/step - loss: 0.5227 - accuracy: 0.7518 - val_loss: 0.7885 - val_accuracy: 0.6613\n",
            "Epoch 97/100\n",
            "18/18 [==============================] - 0s 3ms/step - loss: 0.5398 - accuracy: 0.7337 - val_loss: 0.8279 - val_accuracy: 0.6774\n",
            "Epoch 98/100\n",
            "18/18 [==============================] - 0s 3ms/step - loss: 0.5202 - accuracy: 0.7464 - val_loss: 0.7741 - val_accuracy: 0.6129\n",
            "Epoch 99/100\n",
            "18/18 [==============================] - 0s 3ms/step - loss: 0.5279 - accuracy: 0.7210 - val_loss: 0.8138 - val_accuracy: 0.6935\n",
            "Epoch 100/100\n",
            "18/18 [==============================] - 0s 3ms/step - loss: 0.5414 - accuracy: 0.7446 - val_loss: 0.7849 - val_accuracy: 0.6774\n"
          ]
        }
      ]
    },
    {
      "cell_type": "code",
      "source": [
        "#Prediction\n",
        "y_pred = model.predict(X_test)"
      ],
      "metadata": {
        "id": "t3rUilFSjK3c"
      },
      "execution_count": null,
      "outputs": []
    },
    {
      "cell_type": "code",
      "source": [
        "y_pred"
      ],
      "metadata": {
        "colab": {
          "base_uri": "https://localhost:8080/"
        },
        "id": "0raEGMBJjLs3",
        "outputId": "818d5e2d-bf16-4b8c-9edf-3b3b69e283ac"
      },
      "execution_count": null,
      "outputs": [
        {
          "output_type": "execute_result",
          "data": {
            "text/plain": [
              "array([[8.4605318e-01],\n",
              "       [1.7795524e-01],\n",
              "       [1.8950206e-01],\n",
              "       [6.6701663e-01],\n",
              "       [3.1639594e-01],\n",
              "       [1.5060037e-02],\n",
              "       [6.2128043e-01],\n",
              "       [5.4166859e-01],\n",
              "       [7.4524939e-01],\n",
              "       [4.7938254e-01],\n",
              "       [6.2929177e-01],\n",
              "       [7.1586007e-01],\n",
              "       [2.3915482e-01],\n",
              "       [4.4420829e-01],\n",
              "       [1.2491712e-01],\n",
              "       [2.8891128e-01],\n",
              "       [8.5981572e-01],\n",
              "       [3.1280363e-01],\n",
              "       [2.9713547e-01],\n",
              "       [3.9035898e-01],\n",
              "       [4.2931116e-01],\n",
              "       [1.9698307e-01],\n",
              "       [3.9006990e-01],\n",
              "       [5.4051131e-02],\n",
              "       [3.7011027e-02],\n",
              "       [5.7884675e-01],\n",
              "       [1.5271732e-01],\n",
              "       [6.1039472e-01],\n",
              "       [3.2692084e-01],\n",
              "       [2.9827654e-01],\n",
              "       [4.2560363e-01],\n",
              "       [1.8706858e-01],\n",
              "       [1.6651154e-03],\n",
              "       [5.8682001e-01],\n",
              "       [3.0251023e-01],\n",
              "       [5.9412128e-01],\n",
              "       [4.1693413e-01],\n",
              "       [4.6252691e-05],\n",
              "       [8.2550502e-01],\n",
              "       [8.6079770e-01],\n",
              "       [2.3335132e-01],\n",
              "       [8.5238308e-02],\n",
              "       [1.4882123e-01],\n",
              "       [9.0086734e-01],\n",
              "       [9.4617832e-01],\n",
              "       [4.4021070e-02],\n",
              "       [2.9296461e-01],\n",
              "       [3.9597741e-01],\n",
              "       [3.5799181e-01],\n",
              "       [2.6907498e-01],\n",
              "       [4.5715970e-01],\n",
              "       [4.3344980e-01],\n",
              "       [9.0542763e-01],\n",
              "       [2.3673090e-01],\n",
              "       [2.7662855e-01],\n",
              "       [5.6347227e-01],\n",
              "       [2.7520144e-01],\n",
              "       [6.2423766e-02],\n",
              "       [3.7323761e-01],\n",
              "       [2.0743474e-01],\n",
              "       [4.0543750e-01],\n",
              "       [4.8821408e-01],\n",
              "       [2.9406136e-01],\n",
              "       [6.5031588e-01],\n",
              "       [5.8165312e-01],\n",
              "       [8.5856283e-01],\n",
              "       [4.0638685e-01],\n",
              "       [2.2772923e-01],\n",
              "       [4.5588812e-01],\n",
              "       [9.2130989e-02],\n",
              "       [3.3273569e-01],\n",
              "       [4.2180616e-01],\n",
              "       [1.9053364e-01],\n",
              "       [5.2441823e-01],\n",
              "       [6.8006098e-01],\n",
              "       [2.5735134e-01],\n",
              "       [3.8695335e-04],\n",
              "       [6.0441011e-01],\n",
              "       [5.0922453e-02],\n",
              "       [2.9988274e-01],\n",
              "       [3.0341026e-01],\n",
              "       [4.2381224e-01],\n",
              "       [2.3620728e-01],\n",
              "       [7.6720089e-02],\n",
              "       [3.5993874e-01],\n",
              "       [1.0196677e-01],\n",
              "       [5.8706027e-01],\n",
              "       [8.5615432e-01],\n",
              "       [5.9753013e-01],\n",
              "       [1.7974940e-01],\n",
              "       [2.8021461e-01],\n",
              "       [1.9823146e-01],\n",
              "       [5.5298460e-01],\n",
              "       [2.1672249e-04],\n",
              "       [5.6186831e-01],\n",
              "       [3.0902171e-01],\n",
              "       [9.3713194e-02],\n",
              "       [4.5715308e-01],\n",
              "       [5.7338077e-01],\n",
              "       [3.0604196e-01],\n",
              "       [1.0025415e-01],\n",
              "       [3.2918620e-01],\n",
              "       [7.8138083e-02],\n",
              "       [4.6316206e-02],\n",
              "       [5.5073220e-01],\n",
              "       [3.5908255e-01],\n",
              "       [1.1383235e-02],\n",
              "       [4.7758892e-01],\n",
              "       [6.3309073e-04],\n",
              "       [9.2069417e-01],\n",
              "       [3.0395353e-01],\n",
              "       [4.4469219e-01],\n",
              "       [5.5437720e-01],\n",
              "       [9.6142292e-03],\n",
              "       [2.1984428e-02],\n",
              "       [3.9157271e-01],\n",
              "       [6.6165477e-02],\n",
              "       [9.2816329e-01],\n",
              "       [1.2594774e-01],\n",
              "       [5.5390853e-01],\n",
              "       [3.1887966e-01],\n",
              "       [1.1891258e-01],\n",
              "       [3.5266325e-01],\n",
              "       [3.0351710e-01],\n",
              "       [7.3388726e-02],\n",
              "       [2.6947320e-01],\n",
              "       [9.7033679e-03],\n",
              "       [3.2112044e-01],\n",
              "       [2.1781248e-01],\n",
              "       [2.6345879e-01],\n",
              "       [5.0183654e-01],\n",
              "       [2.1150419e-01],\n",
              "       [2.6805079e-01],\n",
              "       [7.7490473e-01],\n",
              "       [3.4266073e-01],\n",
              "       [3.4615684e-01],\n",
              "       [5.2950126e-01],\n",
              "       [4.0108243e-01],\n",
              "       [6.5903455e-01],\n",
              "       [5.1871645e-01],\n",
              "       [1.0225752e-01],\n",
              "       [5.5039573e-01],\n",
              "       [3.3336931e-01],\n",
              "       [8.6436629e-02],\n",
              "       [4.4521791e-01],\n",
              "       [3.6381224e-01],\n",
              "       [2.0704448e-01],\n",
              "       [3.0993924e-01],\n",
              "       [2.7674651e-01],\n",
              "       [3.1466991e-01],\n",
              "       [1.0130736e-01],\n",
              "       [3.3202505e-01],\n",
              "       [4.2204976e-02],\n",
              "       [1.6352528e-01]], dtype=float32)"
            ]
          },
          "metadata": {},
          "execution_count": 44
        }
      ]
    },
    {
      "cell_type": "code",
      "source": [
        "y_pred = y_pred > 0.5\n",
        "y_pred"
      ],
      "metadata": {
        "colab": {
          "base_uri": "https://localhost:8080/"
        },
        "id": "iqp8ubiAjXFT",
        "outputId": "2d2b5c00-01f8-4228-fcdc-52e1387a671a"
      },
      "execution_count": null,
      "outputs": [
        {
          "output_type": "execute_result",
          "data": {
            "text/plain": [
              "array([[ True],\n",
              "       [False],\n",
              "       [False],\n",
              "       [ True],\n",
              "       [False],\n",
              "       [False],\n",
              "       [ True],\n",
              "       [ True],\n",
              "       [ True],\n",
              "       [False],\n",
              "       [ True],\n",
              "       [ True],\n",
              "       [False],\n",
              "       [False],\n",
              "       [False],\n",
              "       [False],\n",
              "       [ True],\n",
              "       [False],\n",
              "       [False],\n",
              "       [False],\n",
              "       [False],\n",
              "       [False],\n",
              "       [False],\n",
              "       [False],\n",
              "       [False],\n",
              "       [ True],\n",
              "       [False],\n",
              "       [ True],\n",
              "       [False],\n",
              "       [False],\n",
              "       [False],\n",
              "       [False],\n",
              "       [False],\n",
              "       [ True],\n",
              "       [False],\n",
              "       [ True],\n",
              "       [False],\n",
              "       [False],\n",
              "       [ True],\n",
              "       [ True],\n",
              "       [False],\n",
              "       [False],\n",
              "       [False],\n",
              "       [ True],\n",
              "       [ True],\n",
              "       [False],\n",
              "       [False],\n",
              "       [False],\n",
              "       [False],\n",
              "       [False],\n",
              "       [False],\n",
              "       [False],\n",
              "       [ True],\n",
              "       [False],\n",
              "       [False],\n",
              "       [ True],\n",
              "       [False],\n",
              "       [False],\n",
              "       [False],\n",
              "       [False],\n",
              "       [False],\n",
              "       [False],\n",
              "       [False],\n",
              "       [ True],\n",
              "       [ True],\n",
              "       [ True],\n",
              "       [False],\n",
              "       [False],\n",
              "       [False],\n",
              "       [False],\n",
              "       [False],\n",
              "       [False],\n",
              "       [False],\n",
              "       [ True],\n",
              "       [ True],\n",
              "       [False],\n",
              "       [False],\n",
              "       [ True],\n",
              "       [False],\n",
              "       [False],\n",
              "       [False],\n",
              "       [False],\n",
              "       [False],\n",
              "       [False],\n",
              "       [False],\n",
              "       [False],\n",
              "       [ True],\n",
              "       [ True],\n",
              "       [ True],\n",
              "       [False],\n",
              "       [False],\n",
              "       [False],\n",
              "       [ True],\n",
              "       [False],\n",
              "       [ True],\n",
              "       [False],\n",
              "       [False],\n",
              "       [False],\n",
              "       [ True],\n",
              "       [False],\n",
              "       [False],\n",
              "       [False],\n",
              "       [False],\n",
              "       [False],\n",
              "       [ True],\n",
              "       [False],\n",
              "       [False],\n",
              "       [False],\n",
              "       [False],\n",
              "       [ True],\n",
              "       [False],\n",
              "       [False],\n",
              "       [ True],\n",
              "       [False],\n",
              "       [False],\n",
              "       [False],\n",
              "       [False],\n",
              "       [ True],\n",
              "       [False],\n",
              "       [ True],\n",
              "       [False],\n",
              "       [False],\n",
              "       [False],\n",
              "       [False],\n",
              "       [False],\n",
              "       [False],\n",
              "       [False],\n",
              "       [False],\n",
              "       [False],\n",
              "       [False],\n",
              "       [ True],\n",
              "       [False],\n",
              "       [False],\n",
              "       [ True],\n",
              "       [False],\n",
              "       [False],\n",
              "       [ True],\n",
              "       [False],\n",
              "       [ True],\n",
              "       [ True],\n",
              "       [False],\n",
              "       [ True],\n",
              "       [False],\n",
              "       [False],\n",
              "       [False],\n",
              "       [False],\n",
              "       [False],\n",
              "       [False],\n",
              "       [False],\n",
              "       [False],\n",
              "       [False],\n",
              "       [False],\n",
              "       [False],\n",
              "       [False]])"
            ]
          },
          "metadata": {},
          "execution_count": 45
        }
      ]
    },
    {
      "cell_type": "code",
      "source": [
        "pred = y_pred.astype('uint8')\n",
        "pred"
      ],
      "metadata": {
        "colab": {
          "base_uri": "https://localhost:8080/"
        },
        "id": "vK4EPQDwjbe2",
        "outputId": "bacf1889-6eb2-4239-8656-38f9c0a36aa8"
      },
      "execution_count": null,
      "outputs": [
        {
          "output_type": "execute_result",
          "data": {
            "text/plain": [
              "array([[1],\n",
              "       [0],\n",
              "       [0],\n",
              "       [1],\n",
              "       [0],\n",
              "       [0],\n",
              "       [1],\n",
              "       [1],\n",
              "       [1],\n",
              "       [0],\n",
              "       [1],\n",
              "       [1],\n",
              "       [0],\n",
              "       [0],\n",
              "       [0],\n",
              "       [0],\n",
              "       [1],\n",
              "       [0],\n",
              "       [0],\n",
              "       [0],\n",
              "       [0],\n",
              "       [0],\n",
              "       [0],\n",
              "       [0],\n",
              "       [0],\n",
              "       [1],\n",
              "       [0],\n",
              "       [1],\n",
              "       [0],\n",
              "       [0],\n",
              "       [0],\n",
              "       [0],\n",
              "       [0],\n",
              "       [1],\n",
              "       [0],\n",
              "       [1],\n",
              "       [0],\n",
              "       [0],\n",
              "       [1],\n",
              "       [1],\n",
              "       [0],\n",
              "       [0],\n",
              "       [0],\n",
              "       [1],\n",
              "       [1],\n",
              "       [0],\n",
              "       [0],\n",
              "       [0],\n",
              "       [0],\n",
              "       [0],\n",
              "       [0],\n",
              "       [0],\n",
              "       [1],\n",
              "       [0],\n",
              "       [0],\n",
              "       [1],\n",
              "       [0],\n",
              "       [0],\n",
              "       [0],\n",
              "       [0],\n",
              "       [0],\n",
              "       [0],\n",
              "       [0],\n",
              "       [1],\n",
              "       [1],\n",
              "       [1],\n",
              "       [0],\n",
              "       [0],\n",
              "       [0],\n",
              "       [0],\n",
              "       [0],\n",
              "       [0],\n",
              "       [0],\n",
              "       [1],\n",
              "       [1],\n",
              "       [0],\n",
              "       [0],\n",
              "       [1],\n",
              "       [0],\n",
              "       [0],\n",
              "       [0],\n",
              "       [0],\n",
              "       [0],\n",
              "       [0],\n",
              "       [0],\n",
              "       [0],\n",
              "       [1],\n",
              "       [1],\n",
              "       [1],\n",
              "       [0],\n",
              "       [0],\n",
              "       [0],\n",
              "       [1],\n",
              "       [0],\n",
              "       [1],\n",
              "       [0],\n",
              "       [0],\n",
              "       [0],\n",
              "       [1],\n",
              "       [0],\n",
              "       [0],\n",
              "       [0],\n",
              "       [0],\n",
              "       [0],\n",
              "       [1],\n",
              "       [0],\n",
              "       [0],\n",
              "       [0],\n",
              "       [0],\n",
              "       [1],\n",
              "       [0],\n",
              "       [0],\n",
              "       [1],\n",
              "       [0],\n",
              "       [0],\n",
              "       [0],\n",
              "       [0],\n",
              "       [1],\n",
              "       [0],\n",
              "       [1],\n",
              "       [0],\n",
              "       [0],\n",
              "       [0],\n",
              "       [0],\n",
              "       [0],\n",
              "       [0],\n",
              "       [0],\n",
              "       [0],\n",
              "       [0],\n",
              "       [0],\n",
              "       [1],\n",
              "       [0],\n",
              "       [0],\n",
              "       [1],\n",
              "       [0],\n",
              "       [0],\n",
              "       [1],\n",
              "       [0],\n",
              "       [1],\n",
              "       [1],\n",
              "       [0],\n",
              "       [1],\n",
              "       [0],\n",
              "       [0],\n",
              "       [0],\n",
              "       [0],\n",
              "       [0],\n",
              "       [0],\n",
              "       [0],\n",
              "       [0],\n",
              "       [0],\n",
              "       [0],\n",
              "       [0],\n",
              "       [0]], dtype=uint8)"
            ]
          },
          "metadata": {},
          "execution_count": 46
        }
      ]
    },
    {
      "cell_type": "code",
      "source": [
        "#Classification Report\n",
        "print(classification_report(y_test,y_pred))"
      ],
      "metadata": {
        "colab": {
          "base_uri": "https://localhost:8080/"
        },
        "id": "_XpN18Kujfj0",
        "outputId": "65fb6980-30d9-47e5-9d1d-1b52b22033e7"
      },
      "execution_count": null,
      "outputs": [
        {
          "output_type": "stream",
          "name": "stdout",
          "text": [
            "              precision    recall  f1-score   support\n",
            "\n",
            "           0       0.79      0.83      0.81       107\n",
            "           1       0.56      0.49      0.52        47\n",
            "\n",
            "    accuracy                           0.73       154\n",
            "   macro avg       0.67      0.66      0.67       154\n",
            "weighted avg       0.72      0.73      0.72       154\n",
            "\n"
          ]
        }
      ]
    },
    {
      "cell_type": "markdown",
      "source": [
        "**Conclusion:**\n",
        "\n",
        "*   Logistic Regression: Here overall model accuracy is 82% but F1 score for classwise accuracy is 88% for No class and 68% accuracy for Yes class.\n",
        "*   K Nearest Neighbor: Here overall model accuracy is 75% but F1 score for classwise accuracy is 82% for No class and 60% accuracy for Yes class.\n",
        "*   Support Vector Machine: Overall model accuracy is 82% but F1 score for classwise accuracy is 87% for No class and 67% accuracy for Yes class.\n",
        "*   Decision Tree Classifier: Overall model accuracy is 71% but F1 score for classwise accuracy is 78% for No class and 57% accuracy for Yes class.\n",
        "*   Random Forset Classifier: Overall model accuracy = 79% .\n",
        "F1 score for classwise accuracy is 85% for No class and 62% accuracy for Yes class.\n",
        "*   Naive Bayes: Overall model accuracy is 79% but F1 score for classwise accuracy is 85% for No class and 64% accuracy for Yes class.\n",
        "*   Neural Network: Overall model accuracy is 73% but F1 score for classwise accuracy is 81% for No class and 52% accuracy for Yes class.\n",
        "\n",
        "\n",
        "\n",
        "\n"
      ],
      "metadata": {
        "id": "hL6BdOzDMaoU"
      }
    }
  ]
}